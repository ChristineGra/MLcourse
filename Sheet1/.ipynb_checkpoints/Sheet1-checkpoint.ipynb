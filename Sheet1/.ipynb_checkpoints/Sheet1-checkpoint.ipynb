{
 "cells": [
  {
   "cell_type": "markdown",
   "metadata": {},
   "source": [
    "# Machine Learning - Sheet 1"
   ]
  },
  {
   "cell_type": "markdown",
   "metadata": {},
   "source": [
    "## a) Load two datasets and fit GLM"
   ]
  },
  {
   "cell_type": "code",
   "execution_count": 86,
   "metadata": {},
   "outputs": [],
   "source": [
    "from statsmodels.regression.linear_model import OLS\n",
    "import matplotlib.pyplot as plt\n",
    "import numpy as np"
   ]
  },
  {
   "cell_type": "code",
   "execution_count": 87,
   "metadata": {},
   "outputs": [
    {
     "name": "stdout",
     "output_type": "stream",
     "text": [
      "(50, 4)\n",
      "(50,)\n"
     ]
    }
   ],
   "source": [
    "# load data\n",
    "data_x = np.loadtxt(\"sheet1x.txt\")  # 4 lines with 50 entries each\n",
    "data_y = np.loadtxt(\"sheet1y.txt\")  # 1 line with 50 entries\n",
    "\n",
    "# transpose dimensions to match input format of OLS\n",
    "data_x = data_x.T\n",
    "data_y = data_y.T\n",
    "\n",
    "print(data_x.shape)\n",
    "print(data_y.shape)"
   ]
  },
  {
   "cell_type": "code",
   "execution_count": 88,
   "metadata": {},
   "outputs": [
    {
     "name": "stdout",
     "output_type": "stream",
     "text": [
      "                                 OLS Regression Results                                \n",
      "=======================================================================================\n",
      "Dep. Variable:                      y   R-squared (uncentered):                   0.790\n",
      "Model:                            OLS   Adj. R-squared (uncentered):              0.772\n",
      "Method:                 Least Squares   F-statistic:                              43.25\n",
      "Date:                Thu, 23 Apr 2020   Prob (F-statistic):                    4.96e-15\n",
      "Time:                        16:31:17   Log-Likelihood:                          4.5052\n",
      "No. Observations:                  50   AIC:                                     -1.010\n",
      "Df Residuals:                      46   BIC:                                      6.638\n",
      "Df Model:                           4                                                  \n",
      "Covariance Type:            nonrobust                                                  \n",
      "==============================================================================\n",
      "                 coef    std err          t      P>|t|      [0.025      0.975]\n",
      "------------------------------------------------------------------------------\n",
      "x1            -0.6662      0.105     -6.319      0.000      -0.878      -0.454\n",
      "x2            -0.6473      0.121     -5.352      0.000      -0.891      -0.404\n",
      "x3             0.3204      0.111      2.892      0.006       0.097       0.543\n",
      "x4             0.2820      0.107      2.639      0.011       0.067       0.497\n",
      "==============================================================================\n",
      "Omnibus:                        2.921   Durbin-Watson:                   1.926\n",
      "Prob(Omnibus):                  0.232   Jarque-Bera (JB):                2.770\n",
      "Skew:                          -0.552   Prob(JB):                        0.250\n",
      "Kurtosis:                       2.670   Cond. No.                         4.60\n",
      "==============================================================================\n",
      "\n",
      "Warnings:\n",
      "[1] Standard Errors assume that the covariance matrix of the errors is correctly specified.\n"
     ]
    }
   ],
   "source": [
    "# fit model\n",
    "model = OLS(data_y, data_x)\n",
    "results = model.fit()\n",
    "print(results.summary())"
   ]
  },
  {
   "cell_type": "markdown",
   "metadata": {},
   "source": [
    "## b) Interpret summaries: TODO"
   ]
  },
  {
   "cell_type": "markdown",
   "metadata": {},
   "source": [
    "## c) Explore interactions"
   ]
  },
  {
   "cell_type": "code",
   "execution_count": 89,
   "metadata": {},
   "outputs": [],
   "source": [
    "# create transposed copy to be able to multiply columns\n",
    "dats_x_transposed = data_x.T"
   ]
  },
  {
   "cell_type": "code",
   "execution_count": 90,
   "metadata": {},
   "outputs": [
    {
     "name": "stdout",
     "output_type": "stream",
     "text": [
      "[(2, 3), (1, 2), (0, 3), (0, 1), (0, 2), (1, 3)]\n"
     ]
    }
   ],
   "source": [
    "# compute all combinations of columns without duplicates (very hacky, maybe find nicer solution)\n",
    "combinations = set([frozenset((f,s)) for f in range(0, tmp.shape[0] - 1) for s in range(1, tmp.shape[0])])\n",
    "combinations = [tuple(x) for x in combinations if len(x) == 2]\n",
    "print(combinations)"
   ]
  },
  {
   "cell_type": "code",
   "execution_count": 91,
   "metadata": {},
   "outputs": [],
   "source": [
    "# iterate over combinations of columns\n",
    "for (i1, i2) in combinations :\n",
    "    # multiply\n",
    "    new_col = np.multiply(dats_x_transposed[i1], dats_x_transposed[i2])\n",
    "    # expand dimensions to append\n",
    "    new_col = np.expand_dims(new_col, axis=1)\n",
    "    # append new column\n",
    "    data_x = np.append(data_x, new_col, axis=1)"
   ]
  },
  {
   "cell_type": "code",
   "execution_count": 92,
   "metadata": {},
   "outputs": [
    {
     "name": "stdout",
     "output_type": "stream",
     "text": [
      "(50, 10)\n"
     ]
    }
   ],
   "source": [
    "print(data_x.shape)"
   ]
  },
  {
   "cell_type": "code",
   "execution_count": 93,
   "metadata": {},
   "outputs": [
    {
     "name": "stdout",
     "output_type": "stream",
     "text": [
      "                                 OLS Regression Results                                \n",
      "=======================================================================================\n",
      "Dep. Variable:                      y   R-squared (uncentered):                   0.983\n",
      "Model:                            OLS   Adj. R-squared (uncentered):              0.979\n",
      "Method:                 Least Squares   F-statistic:                              237.3\n",
      "Date:                Thu, 23 Apr 2020   Prob (F-statistic):                    2.46e-32\n",
      "Time:                        16:31:17   Log-Likelihood:                          67.981\n",
      "No. Observations:                  50   AIC:                                     -116.0\n",
      "Df Residuals:                      40   BIC:                                     -96.84\n",
      "Df Model:                          10                                                  \n",
      "Covariance Type:            nonrobust                                                  \n",
      "==============================================================================\n",
      "                 coef    std err          t      P>|t|      [0.025      0.975]\n",
      "------------------------------------------------------------------------------\n",
      "x1             0.1437      0.094      1.527      0.135      -0.047       0.334\n",
      "x2             0.2974      0.123      2.416      0.020       0.049       0.546\n",
      "x3             0.0841      0.103      0.818      0.418      -0.124       0.292\n",
      "x4             0.0727      0.092      0.787      0.436      -0.114       0.259\n",
      "x5             0.0026      0.119      0.022      0.983      -0.239       0.244\n",
      "x6            -0.0249      0.157     -0.159      0.875      -0.342       0.292\n",
      "x7            -0.0537      0.124     -0.435      0.666      -0.303       0.196\n",
      "x8            -2.3557      0.140    -16.815      0.000      -2.639      -2.073\n",
      "x9             0.1236      0.122      1.013      0.317      -0.123       0.370\n",
      "x10           -0.0183      0.180     -0.102      0.919      -0.382       0.345\n",
      "==============================================================================\n",
      "Omnibus:                        0.980   Durbin-Watson:                   1.647\n",
      "Prob(Omnibus):                  0.613   Jarque-Bera (JB):                1.045\n",
      "Skew:                          -0.266   Prob(JB):                        0.593\n",
      "Kurtosis:                       2.533   Cond. No.                         33.1\n",
      "==============================================================================\n",
      "\n",
      "Warnings:\n",
      "[1] Standard Errors assume that the covariance matrix of the errors is correctly specified.\n"
     ]
    }
   ],
   "source": [
    "# fit model\n",
    "model_2 = OLS(data_y, data_x)\n",
    "results_2 = model_2.fit()\n",
    "print(results_2.summary())"
   ]
  }
 ],
 "metadata": {
  "kernelspec": {
   "display_name": "Python 3",
   "language": "python",
   "name": "python3"
  },
  "language_info": {
   "codemirror_mode": {
    "name": "ipython",
    "version": 3
   },
   "file_extension": ".py",
   "mimetype": "text/x-python",
   "name": "python",
   "nbconvert_exporter": "python",
   "pygments_lexer": "ipython3",
   "version": "3.7.7"
  }
 },
 "nbformat": 4,
 "nbformat_minor": 4
}
