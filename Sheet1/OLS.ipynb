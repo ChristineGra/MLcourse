{
 "cells": [
  {
   "cell_type": "markdown",
   "metadata": {},
   "source": [
    "# Machine Learning - Sheet 1"
   ]
  },
  {
   "cell_type": "markdown",
   "metadata": {},
   "source": [
    "## a) Load two datasets and fit OLS"
   ]
  },
  {
   "cell_type": "code",
   "execution_count": 30,
   "metadata": {},
   "outputs": [],
   "source": [
    "from statsmodels.regression.linear_model import OLS\n",
    "import matplotlib.pyplot as plt\n",
    "import numpy as np\n",
    "from sklearn.metrics import mean_squared_error\n",
    "from sklearn.model_selection import train_test_split\n",
    "from itertools import combinations_with_replacement"
   ]
  },
  {
   "cell_type": "code",
   "execution_count": 31,
   "metadata": {},
   "outputs": [
    {
     "name": "stdout",
     "output_type": "stream",
     "text": [
      "(50, 4)\n",
      "(50,)\n",
      "(17, 4)\n"
     ]
    }
   ],
   "source": [
    "# load data\n",
    "data_x = np.loadtxt(\"sheet1x.txt\")  # 4 lines with 50 entries each\n",
    "data_y = np.loadtxt(\"sheet1y.txt\")  # 1 line with 50 entries\n",
    "\n",
    "# transpose dimensions to match input format of OLS\n",
    "data_x = data_x.T\n",
    "\n",
    "print(data_x.shape)\n",
    "print(data_y.shape)\n",
    "\n",
    "# train test split\n",
    "x_train, x_test, y_train, y_test = train_test_split(data_x, data_y, test_size=0.33, random_state=2)\n",
    "print(x_test.shape)"
   ]
  },
  {
   "cell_type": "code",
   "execution_count": 32,
   "metadata": {},
   "outputs": [
    {
     "name": "stdout",
     "output_type": "stream",
     "text": [
      "                                 OLS Regression Results                                \n",
      "=======================================================================================\n",
      "Dep. Variable:                      y   R-squared (uncentered):                   0.674\n",
      "Model:                            OLS   Adj. R-squared (uncentered):              0.629\n",
      "Method:                 Least Squares   F-statistic:                              14.97\n",
      "Date:                Wed, 29 Apr 2020   Prob (F-statistic):                    9.51e-07\n",
      "Time:                        16:08:56   Log-Likelihood:                          5.8353\n",
      "No. Observations:                  33   AIC:                                     -3.671\n",
      "Df Residuals:                      29   BIC:                                      2.315\n",
      "Df Model:                           4                                                  \n",
      "Covariance Type:            nonrobust                                                  \n",
      "==============================================================================\n",
      "                 coef    std err          t      P>|t|      [0.025      0.975]\n",
      "------------------------------------------------------------------------------\n",
      "x1            -0.5209      0.129     -4.043      0.000      -0.784      -0.257\n",
      "x2            -0.4463      0.148     -3.011      0.005      -0.749      -0.143\n",
      "x3             0.2392      0.140      1.712      0.098      -0.047       0.525\n",
      "x4             0.1407      0.134      1.051      0.302      -0.133       0.415\n",
      "==============================================================================\n",
      "Omnibus:                       15.348   Durbin-Watson:                   1.656\n",
      "Prob(Omnibus):                  0.000   Jarque-Bera (JB):               17.824\n",
      "Skew:                          -1.319   Prob(JB):                     0.000135\n",
      "Kurtosis:                       5.450   Cond. No.                         5.03\n",
      "==============================================================================\n",
      "\n",
      "Warnings:\n",
      "[1] Standard Errors assume that the covariance matrix of the errors is correctly specified.\n",
      "MSE:  0.09201922424554572\n"
     ]
    }
   ],
   "source": [
    "# fit model\n",
    "model = OLS(y_train,  x_train)\n",
    "results = model.fit()\n",
    "# print summary\n",
    "print(results.summary())\n",
    "\n",
    "# evaluate fit\n",
    "params = results.params\n",
    "new_y = model.predict(params, exog=x_test)\n",
    "# compute mse\n",
    "mse = mean_squared_error(y_test, new_y)\n",
    "print(\"MSE: \", mse)"
   ]
  },
  {
   "cell_type": "markdown",
   "metadata": {},
   "source": [
    "## b) Interpret summaries:\n",
    "- first three variables have pvalue < 0.05 -> variables statistically significant\n",
    "- R squared is good\n",
    "- F statistic is good\n",
    "- small MSE"
   ]
  },
  {
   "cell_type": "markdown",
   "metadata": {},
   "source": [
    "## c) Explore interactions"
   ]
  },
  {
   "cell_type": "code",
   "execution_count": 33,
   "metadata": {},
   "outputs": [],
   "source": [
    "# create transposed copy to be able to multiply columns\n",
    "data_x_transposed = data_x.T"
   ]
  },
  {
   "cell_type": "code",
   "execution_count": 34,
   "metadata": {},
   "outputs": [
    {
     "name": "stdout",
     "output_type": "stream",
     "text": [
      "[(0, 0), (0, 1), (0, 2), (0, 3), (1, 1), (1, 2), (1, 3), (2, 2), (2, 3), (3, 3)]\n"
     ]
    }
   ],
   "source": [
    "# compute all combinations of columns without duplicates\n",
    "combinations = list(combinations_with_replacement(range(data_x_transposed.shape[0]), 2))\n",
    "print(combinations)\n"
   ]
  },
  {
   "cell_type": "code",
   "execution_count": 35,
   "metadata": {},
   "outputs": [],
   "source": [
    "# iterate over combinations of columns\n",
    "for (i1, i2) in combinations :\n",
    "    # multiply\n",
    "    new_col = np.multiply(data_x_transposed[i1], data_x_transposed[i2])\n",
    "    # expand dimensions to append\n",
    "    new_col = np.expand_dims(new_col, axis=1)\n",
    "    # append new column\n",
    "    data_x = np.append(data_x, new_col, axis=1)"
   ]
  },
  {
   "cell_type": "code",
   "execution_count": 36,
   "metadata": {},
   "outputs": [
    {
     "name": "stdout",
     "output_type": "stream",
     "text": [
      "(50, 14)\n",
      "(17, 14)\n"
     ]
    }
   ],
   "source": [
    "print(data_x.shape)\n",
    "\n",
    "# train test split\n",
    "x_train, x_test, y_train, y_test = train_test_split(data_x, data_y, test_size=0.33, random_state=2)\n",
    "print(x_test.shape)\n"
   ]
  },
  {
   "cell_type": "code",
   "execution_count": 37,
   "metadata": {},
   "outputs": [
    {
     "name": "stdout",
     "output_type": "stream",
     "text": [
      "                                 OLS Regression Results                                \n",
      "=======================================================================================\n",
      "Dep. Variable:                      y   R-squared (uncentered):                   1.000\n",
      "Model:                            OLS   Adj. R-squared (uncentered):              1.000\n",
      "Method:                 Least Squares   F-statistic:                          5.376e+27\n",
      "Date:                Wed, 29 Apr 2020   Prob (F-statistic):                   4.21e-259\n",
      "Time:                        16:08:56   Log-Likelihood:                          1035.9\n",
      "No. Observations:                  33   AIC:                                     -2044.\n",
      "Df Residuals:                      19   BIC:                                     -2023.\n",
      "Df Model:                          14                                                  \n",
      "Covariance Type:            nonrobust                                                  \n",
      "==============================================================================\n",
      "                 coef    std err          t      P>|t|      [0.025      0.975]\n",
      "------------------------------------------------------------------------------\n",
      "x1             1.0000   2.45e-14   4.09e+13      0.000       1.000       1.000\n",
      "x2          7.772e-16   3.24e-14      0.024      0.981    -6.7e-14    6.85e-14\n",
      "x3             0.1000   3.39e-14   2.95e+12      0.000       0.100       0.100\n",
      "x4          1.554e-15   2.47e-14      0.063      0.950   -5.01e-14    5.32e-14\n",
      "x5            -1.0000   2.74e-14  -3.64e+13      0.000      -1.000      -1.000\n",
      "x6            -2.0000   2.77e-14  -7.22e+13      0.000      -2.000      -2.000\n",
      "x7           1.11e-15   2.83e-14      0.039      0.969   -5.81e-14    6.04e-14\n",
      "x8                  0   2.14e-14          0      1.000   -4.48e-14    4.48e-14\n",
      "x9          3.331e-16   2.26e-14      0.015      0.988    -4.7e-14    4.77e-14\n",
      "x10            0.0100   4.27e-14   2.34e+11      0.000       0.010       0.010\n",
      "x11         2.665e-15   3.97e-14      0.067      0.947   -8.05e-14    8.58e-14\n",
      "x12         8.188e-16    3.6e-14      0.023      0.982   -7.46e-14    7.62e-14\n",
      "x13         1.499e-15   2.15e-14      0.070      0.945   -4.34e-14    4.64e-14\n",
      "x14         7.494e-16   2.66e-14      0.028      0.978   -5.49e-14    5.64e-14\n",
      "==============================================================================\n",
      "Omnibus:                        1.334   Durbin-Watson:                   0.389\n",
      "Prob(Omnibus):                  0.513   Jarque-Bera (JB):                1.201\n",
      "Skew:                          -0.312   Prob(JB):                        0.548\n",
      "Kurtosis:                       2.304   Cond. No.                         74.9\n",
      "==============================================================================\n",
      "\n",
      "Warnings:\n",
      "[1] Standard Errors assume that the covariance matrix of the errors is correctly specified.\n",
      "MSE:  3.4168922927595084e-29\n"
     ]
    }
   ],
   "source": [
    "# fit model\n",
    "model_2 = OLS(y_train, x_train)\n",
    "results_2 = model_2.fit()\n",
    "# print summary\n",
    "print(results_2.summary())\n",
    "\n",
    "# evaluate fit\n",
    "params = results_2.params\n",
    "new_y = model_2.predict(params, exog=x_test)\n",
    "# compute MSE\n",
    "mse = mean_squared_error(y_test, new_y)\n",
    "print(\"MSE: \", mse)"
   ]
  },
  {
   "cell_type": "markdown",
   "metadata": {},
   "source": [
    "## b) Interpret summaries:\n",
    "- five variables have pvalue < 0.05 -> $x_1, x_3, x_1^2, x_1x_2, x_2x_3$ are statistically significant\n",
    "- R squared is very good\n",
    "- F statistic is very good\n",
    "- very small MSE"
   ]
  }
 ],
 "metadata": {
  "kernelspec": {
   "display_name": "Python 3",
   "language": "python",
   "name": "python3"
  },
  "language_info": {
   "codemirror_mode": {
    "name": "ipython",
    "version": 3
   },
   "file_extension": ".py",
   "mimetype": "text/x-python",
   "name": "python",
   "nbconvert_exporter": "python",
   "pygments_lexer": "ipython3",
   "version": "3.7.7"
  }
 },
 "nbformat": 4,
 "nbformat_minor": 4
}
